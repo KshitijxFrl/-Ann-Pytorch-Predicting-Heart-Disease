{
 "cells": [
  {
   "cell_type": "markdown",
   "metadata": {},
   "source": [
    "Importing the Libraries\n"
   ]
  },
  {
   "cell_type": "code",
   "execution_count": 1,
   "metadata": {},
   "outputs": [],
   "source": [
    "import torch\n",
    "import torch.nn as nn\n",
    "import torch.nn.functional as F\n",
    "from torch.utils.data import DataLoader,TensorDataset\n",
    "import sklearn.model_selection as skt\n",
    "import numpy as np\n",
    "import pandas as pd \n",
    "import matplotlib.pyplot as plt"
   ]
  },
  {
   "cell_type": "markdown",
   "metadata": {},
   "source": [
    "Importing and preprocessing the data"
   ]
  },
  {
   "cell_type": "code",
   "execution_count": 2,
   "metadata": {},
   "outputs": [],
   "source": [
    "dataurl  = 'https://archive.ics.uci.edu/ml/machine-learning-databases/heart-disease/processed.cleveland.data'\n",
    "data = pd.read_csv(dataurl,sep=',',header=None)\n",
    "data.columns = ['age','sex','cp','trestbps','chol','fbs','restecg','thalach','exang','oldpeak','slope','ca','thal','DISEASE']\n",
    "data = data.replace('?',np.nan).dropna()\n",
    "#data"
   ]
  },
  {
   "cell_type": "code",
   "execution_count": 3,
   "metadata": {},
   "outputs": [],
   "source": [
    "#Z scoring\n",
    "cols2zscore = data.keys()\n",
    "cols2zscore = cols2zscore.drop(['sex','fbs','exang','DISEASE'])\n",
    "cols2zscore\n",
    "\n",
    "for c in cols2zscore:\n",
    "  d = pd.to_numeric(data[c]) # force to numeric (addresses some data-format issues)\n",
    "  data[c] = (d - d.mean())/d.std(ddof=1)"
   ]
  },
  {
   "cell_type": "code",
   "execution_count": 4,
   "metadata": {},
   "outputs": [
    {
     "name": "stderr",
     "output_type": "stream",
     "text": [
      "C:\\Users\\user\\AppData\\Local\\Temp\\ipykernel_20128\\3740208473.py:2: SettingWithCopyWarning: \n",
      "A value is trying to be set on a copy of a slice from a DataFrame\n",
      "\n",
      "See the caveats in the documentation: https://pandas.pydata.org/pandas-docs/stable/user_guide/indexing.html#returning-a-view-versus-a-copy\n",
      "  data['DISEASE'][data['DISEASE']>0] = 1\n"
     ]
    }
   ],
   "source": [
    "#binarizing the data (a person have a diseases or not have a diseases)\n",
    "data['DISEASE'][data['DISEASE']>0] = 1"
   ]
  },
  {
   "cell_type": "markdown",
   "metadata": {},
   "source": [
    "Creating the data loders and spliting them into train and test data"
   ]
  },
  {
   "cell_type": "code",
   "execution_count": 5,
   "metadata": {},
   "outputs": [
    {
     "name": "stdout",
     "output_type": "stream",
     "text": [
      "torch.Size([297, 13])\n",
      "torch.Size([297])\n",
      "torch.Size([297, 1])\n"
     ]
    }
   ],
   "source": [
    "# convert from pandas dataframe to tensor\n",
    "dataT  = torch.tensor( data[data.keys().drop('DISEASE')].values ).float()\n",
    "labels = torch.tensor( data['DISEASE'].values ).float()\n",
    "\n",
    "print( dataT.shape )\n",
    "print( labels.shape )\n",
    "\n",
    "# we'll actually need the labels to be a \"matrix\"\n",
    "labels = labels[:,None]\n",
    "print( labels.shape )"
   ]
  },
  {
   "cell_type": "code",
   "execution_count": 6,
   "metadata": {},
   "outputs": [],
   "source": [
    "train_data,test_data, train_labels,test_labels = skt.train_test_split(dataT, labels, test_size=50)\n",
    "\n",
    "# then convert them into PyTorch Datasets\n",
    "train_data = TensorDataset(train_data,train_labels)\n",
    "test_data  = TensorDataset(test_data,test_labels)\n",
    "\n",
    "# finally, translate into dataloader objects\n",
    "trainLoader = DataLoader(train_data,batch_size=20,shuffle=True,drop_last=True)\n",
    "testLoader  = DataLoader(test_data,batch_size=test_data.tensors[0].shape[0])"
   ]
  },
  {
   "cell_type": "markdown",
   "metadata": {},
   "source": [
    "Creating the Main model and train function"
   ]
  },
  {
   "cell_type": "code",
   "execution_count": 7,
   "metadata": {},
   "outputs": [],
   "source": [
    "# Net creation\n",
    "def createpredictionNet():\n",
    "    class predictionNet(nn.Module):\n",
    "        def __init__(self):\n",
    "            super().__init__()\n",
    "            ##input\n",
    "            self.input = nn.Linear(13,32)\n",
    "\n",
    "            ##hidden\n",
    "            self.h1 = nn.Linear(32,64)\n",
    "            self.h2 = nn.Linear(64,10)\n",
    "            \n",
    "            ##ouput\n",
    "            self.output = nn.Linear(10,1) \n",
    "\n",
    "\n",
    "        def forward(self,X):\n",
    "            X = F.relu(self.input(X))\n",
    "            X = F.relu(self.h1(X))\n",
    "            X = F.relu(self.h2(X))\n",
    "             \n",
    "        \n",
    "            return self.output(X)\n",
    "\n",
    "    net = predictionNet()\n",
    "\n",
    "    #lossfuncttion\n",
    "    lossfun = nn.BCEWithLogitsLoss()\n",
    "\n",
    "    #optimizer\n",
    "    optimizer = torch.optim.SGD(net.parameters(),lr=.01)\n",
    "\n",
    "    return net,lossfun,optimizer\n"
   ]
  },
  {
   "cell_type": "code",
   "execution_count": 15,
   "metadata": {},
   "outputs": [],
   "source": [
    "#Traning function\n",
    "\n",
    "def trainNet():\n",
    "    numepochs =100\n",
    "    net,lossfun,optimizer = createpredictionNet()\n",
    "\n",
    "    # storage for losses and accuracy \n",
    "    trainLoss = torch.zeros(numepochs)\n",
    "    testLoss  = torch.zeros(numepochs)\n",
    "    trainAcc  = torch.zeros(numepochs)\n",
    "    testAcc   = torch.zeros(numepochs)\n",
    "\n",
    "    for epochi in range(numepochs):\n",
    "\n",
    "        net.train()\n",
    "        # loop over training data batches\n",
    "        \n",
    "        batchLoss = []\n",
    "        \n",
    "        for X,Y_in in trainLoader:\n",
    "\n",
    "           #forward pass\n",
    "           Y_out = net(X)\n",
    "        \n",
    "           loss = lossfun(Y_out,Y_in)\n",
    "\n",
    "           #backprop\n",
    "           optimizer.zero_grad()\n",
    "           loss.backward()\n",
    "           optimizer.step()\n",
    "\n",
    "           #batch loss and traning accuraacy after every batch \n",
    "\n",
    "           batchLoss.append(loss.item()) \n",
    "           predictions = (torch.sigmoid(Y_out)>.5).float()\n",
    "           trainAcc[epochi] = 100*torch.mean((predictions==Y_in).float())\n",
    "\n",
    "        trainLoss[epochi] = np.mean(batchLoss)\n",
    "\n",
    "        net.eval()\n",
    "        for x,y_in in testLoader:\n",
    "            y_out = net(x)\n",
    "            loss = lossfun(y_out,y_in)\n",
    "            testLoss[epochi] = loss.item()\n",
    "            # test accuracy\n",
    "            predictions = (torch.sigmoid(y_out)>.5).float()\n",
    "            testAcc[epochi] = 100*torch.mean((predictions==y_in).float())\n",
    "  \n",
    "        \n",
    "\n",
    "\n",
    "    return trainAcc,testAcc,trainLoss,testLoss,net  "
   ]
  },
  {
   "cell_type": "markdown",
   "metadata": {},
   "source": [
    "Creating the new model"
   ]
  },
  {
   "cell_type": "code",
   "execution_count": 16,
   "metadata": {},
   "outputs": [],
   "source": [
    "trainAcc,testAcc,trainLoss,testLoss,net    = trainNet()"
   ]
  },
  {
   "cell_type": "markdown",
   "metadata": {},
   "source": [
    "Viualizing the output"
   ]
  },
  {
   "cell_type": "code",
   "execution_count": 17,
   "metadata": {},
   "outputs": [
    {
     "data": {
      "image/png": "[encoded data removed]",
      "text/plain": [
       "<Figure size 1152x360 with 2 Axes>"
      ]
     },
     "metadata": {
      "needs_background": "light"
     },
     "output_type": "display_data"
    }
   ],
   "source": [
    "fig,ax = plt.subplots(1,2,figsize=(16,5))\n",
    "\n",
    "ax[0].plot(trainLoss,'s-',label='Train')\n",
    "ax[0].plot(testLoss,'s-',label='Test')\n",
    "ax[0].set_xlabel('Epochs')\n",
    "ax[0].set_ylabel('Loss')\n",
    "ax[0].set_title('Model loss')\n",
    "\n",
    "ax[1].plot(trainAcc,'s-',label='Train')\n",
    "ax[1].plot(testAcc,'o-',label='Test')\n",
    "ax[1].set_xlabel('Epochs')\n",
    "ax[1].set_ylabel('Accuracy (%)')\n",
    "ax[1].set_title(f'Final model test accuracy: {testAcc[-1]:.2f}%')\n",
    "ax[1].legend()\n",
    "\n",
    "plt.show()"
   ]
  }
 ],
 "metadata": {
  "interpreter": {
   "hash": "d79c3f6fa3cdc3f8c7431c9578e5f62c4819b1b6aff3868023143e426bc4cb3f"
  },
  "kernelspec": {
   "display_name": "Python 3.9.7 ('cdpy39')",
   "language": "python",
   "name": "python3"
  },
  "language_info": {
   "codemirror_mode": {
    "name": "ipython",
    "version": 3
   },
   "file_extension": ".py",
   "mimetype": "text/x-python",
   "name": "python",
   "nbconvert_exporter": "python",
   "pygments_lexer": "ipython3",
   "version": "3.9.7"
  },
  "orig_nbformat": 4
 },
 "nbformat": 4,
 "nbformat_minor": 2
}
